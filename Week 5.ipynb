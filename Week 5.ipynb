{
 "cells": [
  {
   "cell_type": "code",
   "execution_count": 1,
   "metadata": {},
   "outputs": [],
   "source": [
    "import urllib.request\n",
    "import xml.etree.ElementTree as ET\n",
    "\n",
    "\n"
   ]
  },
  {
   "cell_type": "code",
   "execution_count": 3,
   "metadata": {},
   "outputs": [
    {
     "name": "stdout",
     "output_type": "stream",
     "text": [
      "Enter - http://py4e-data.dr-chuck.net/comments_42.xml\n",
      "Count :  50\n",
      "Sum :  2553\n"
     ]
    }
   ],
   "source": [
    "url = input(\"Enter - \")\n",
    "data = urllib.request.urlopen(url).read()\n",
    "\n",
    "tree = ET.fromstring(data)\n",
    "results = tree.findall('comments/comment')\n",
    "count =0\n",
    "sum=0\n",
    "for item in results:\n",
    "    x = int(item.find('count').text)\n",
    "    count =count+1\n",
    "    sum = sum+x\n",
    "\n",
    "print(\"Count : \",count)\n",
    "print(\"Sum : \",sum)\n",
    "\n"
   ]
  },
  {
   "cell_type": "code",
   "execution_count": null,
   "metadata": {},
   "outputs": [],
   "source": []
  }
 ],
 "metadata": {
  "kernelspec": {
   "display_name": "Python 3",
   "language": "python",
   "name": "python3"
  },
  "language_info": {
   "codemirror_mode": {
    "name": "ipython",
    "version": 3
   },
   "file_extension": ".py",
   "mimetype": "text/x-python",
   "name": "python",
   "nbconvert_exporter": "python",
   "pygments_lexer": "ipython3",
   "version": "3.7.3"
  }
 },
 "nbformat": 4,
 "nbformat_minor": 2
}
